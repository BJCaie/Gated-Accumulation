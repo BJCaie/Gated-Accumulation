{
 "cells": [
  {
   "cell_type": "code",
   "execution_count": 2,
   "metadata": {},
   "outputs": [],
   "source": [
    "# Script for reaction time models with within-trial baseline dynamics. Simulations, analytical solutions, parameter recovery, fitting methods\n",
    "import numpy as np\n",
    "import matplotlib.pyplot as plt\n",
    "from matplotlib.pyplot import cm\n",
    "from Scripts import behaviour, BDI\n",
    "from scipy.optimize import differential_evolution\n",
    "from skopt import dump\n",
    "np.random.seed(0)\n",
    "    "
   ]
  },
  {
   "cell_type": "code",
   "execution_count": 3,
   "metadata": {},
   "outputs": [],
   "source": [
    "path = r'C:\\Users\\Brandon\\Desktop\\PhD\\Baseline Dynamics\\Baseline-Dynamics\\Behavioural_Data'\n",
    "subj_path = r'E:\\Free Choice\\Data\\tDCS\\tDCS\\Final Data'\n",
    "subj_keys = behaviour.get_immediate_subdirectories(subj_path)\n",
    "polarity_keys = ['AN', 'CA'] \n",
    "exp_keys = ['PR','ST', 'PO']\n",
    "delayBins = 5\n",
    "\n"
   ]
  },
  {
   "cell_type": "code",
   "execution_count": 5,
   "metadata": {},
   "outputs": [
    {
     "name": "stderr",
     "output_type": "stream",
     "text": [
      "c:\\Users\\Brandon\\Desktop\\PhD\\Gated Accumulation\\Notebooks\\Scripts\\BDI.py:186: RuntimeWarning: invalid value encountered in divide\n",
      "  pT = pT / np.sum(pT)\n",
      "c:\\Users\\Brandon\\Desktop\\PhD\\Gated Accumulation\\.venv\\lib\\site-packages\\scipy\\optimize\\_numdiff.py:576: RuntimeWarning: invalid value encountered in subtract\n",
      "  df = fun(x) - f0\n"
     ]
    },
    {
     "name": "stdout",
     "output_type": "stream",
     "text": [
      "probabilities contain nan\n",
      "probabilities contain nan\n",
      "probabilities contain nan\n",
      "probabilities contain nan\n",
      "probabilities contain nan\n"
     ]
    },
    {
     "name": "stderr",
     "output_type": "stream",
     "text": [
      "c:\\Users\\Brandon\\Desktop\\PhD\\Gated Accumulation\\Notebooks\\Scripts\\BDI.py:186: RuntimeWarning: invalid value encountered in divide\n",
      "  pT = pT / np.sum(pT)\n"
     ]
    },
    {
     "name": "stdout",
     "output_type": "stream",
     "text": [
      "probabilities contain nan\n",
      "probabilities contain nan\n",
      "probabilities contain nan\n",
      "probabilities contain nan\n",
      "probabilities contain nan\n",
      "probabilities contain nan\n"
     ]
    },
    {
     "name": "stderr",
     "output_type": "stream",
     "text": [
      "c:\\Users\\Brandon\\Desktop\\PhD\\Gated Accumulation\\.venv\\lib\\site-packages\\scipy\\optimize\\_numdiff.py:576: RuntimeWarning: invalid value encountered in subtract\n",
      "  df = fun(x) - f0\n",
      "c:\\Users\\Brandon\\Desktop\\PhD\\Gated Accumulation\\Notebooks\\Scripts\\BDI.py:186: RuntimeWarning: invalid value encountered in divide\n",
      "  pT = pT / np.sum(pT)\n",
      "c:\\Users\\Brandon\\Desktop\\PhD\\Gated Accumulation\\.venv\\lib\\site-packages\\scipy\\optimize\\_numdiff.py:576: RuntimeWarning: invalid value encountered in subtract\n",
      "  df = fun(x) - f0\n"
     ]
    },
    {
     "name": "stdout",
     "output_type": "stream",
     "text": [
      "probabilities contain nan\n",
      "probabilities contain nan\n",
      "probabilities contain nan\n",
      "probabilities contain nan\n",
      "probabilities contain nan\n"
     ]
    },
    {
     "name": "stderr",
     "output_type": "stream",
     "text": [
      "c:\\Users\\Brandon\\Desktop\\PhD\\Gated Accumulation\\Notebooks\\Scripts\\BDI.py:186: RuntimeWarning: invalid value encountered in divide\n",
      "  pT = pT / np.sum(pT)\n",
      "c:\\Users\\Brandon\\Desktop\\PhD\\Gated Accumulation\\.venv\\lib\\site-packages\\scipy\\optimize\\_numdiff.py:576: RuntimeWarning: invalid value encountered in subtract\n",
      "  df = fun(x) - f0\n"
     ]
    },
    {
     "name": "stdout",
     "output_type": "stream",
     "text": [
      "probabilities contain nan\n",
      "probabilities contain nan\n",
      "probabilities contain nan\n",
      "probabilities contain nan\n",
      "probabilities contain nan\n"
     ]
    },
    {
     "name": "stderr",
     "output_type": "stream",
     "text": [
      "c:\\Users\\Brandon\\Desktop\\PhD\\Gated Accumulation\\Notebooks\\Scripts\\BDI.py:186: RuntimeWarning: invalid value encountered in divide\n",
      "  pT = pT / np.sum(pT)\n",
      "c:\\Users\\Brandon\\Desktop\\PhD\\Gated Accumulation\\.venv\\lib\\site-packages\\scipy\\optimize\\_numdiff.py:576: RuntimeWarning: invalid value encountered in subtract\n",
      "  df = fun(x) - f0\n"
     ]
    },
    {
     "name": "stdout",
     "output_type": "stream",
     "text": [
      "probabilities contain nan\n",
      "probabilities contain nan\n",
      "probabilities contain nan\n",
      "probabilities contain nan\n",
      "probabilities contain nan\n",
      "probabilities contain nan\n",
      "probabilities contain nan\n",
      "probabilities contain nan\n",
      "probabilities contain nan\n",
      "probabilities contain nan\n"
     ]
    },
    {
     "name": "stderr",
     "output_type": "stream",
     "text": [
      "c:\\Users\\Brandon\\Desktop\\PhD\\Gated Accumulation\\Notebooks\\Scripts\\BDI.py:186: RuntimeWarning: invalid value encountered in divide\n",
      "  pT = pT / np.sum(pT)\n",
      "c:\\Users\\Brandon\\Desktop\\PhD\\Gated Accumulation\\.venv\\lib\\site-packages\\scipy\\optimize\\_numdiff.py:576: RuntimeWarning: invalid value encountered in subtract\n",
      "  df = fun(x) - f0\n"
     ]
    },
    {
     "name": "stdout",
     "output_type": "stream",
     "text": [
      "probabilities contain nan\n",
      "probabilities contain nan\n",
      "probabilities contain nan\n",
      "probabilities contain nan\n",
      "probabilities contain nan\n"
     ]
    },
    {
     "name": "stderr",
     "output_type": "stream",
     "text": [
      "c:\\Users\\Brandon\\Desktop\\PhD\\Gated Accumulation\\Notebooks\\Scripts\\BDI.py:186: RuntimeWarning: invalid value encountered in divide\n",
      "  pT = pT / np.sum(pT)\n"
     ]
    },
    {
     "name": "stdout",
     "output_type": "stream",
     "text": [
      "probabilities contain nan\n"
     ]
    },
    {
     "name": "stderr",
     "output_type": "stream",
     "text": [
      "c:\\Users\\Brandon\\Desktop\\PhD\\Gated Accumulation\\Notebooks\\Scripts\\BDI.py:186: RuntimeWarning: invalid value encountered in divide\n",
      "  pT = pT / np.sum(pT)\n",
      "c:\\Users\\Brandon\\Desktop\\PhD\\Gated Accumulation\\.venv\\lib\\site-packages\\scipy\\optimize\\_numdiff.py:576: RuntimeWarning: invalid value encountered in subtract\n",
      "  df = fun(x) - f0\n"
     ]
    },
    {
     "name": "stdout",
     "output_type": "stream",
     "text": [
      "probabilities contain nan\n",
      "probabilities contain nan\n",
      "probabilities contain nan\n",
      "probabilities contain nan\n",
      "probabilities contain nan\n"
     ]
    },
    {
     "name": "stderr",
     "output_type": "stream",
     "text": [
      "c:\\Users\\Brandon\\Desktop\\PhD\\Gated Accumulation\\Notebooks\\Scripts\\BDI.py:186: RuntimeWarning: invalid value encountered in divide\n",
      "  pT = pT / np.sum(pT)\n",
      "c:\\Users\\Brandon\\Desktop\\PhD\\Gated Accumulation\\.venv\\lib\\site-packages\\scipy\\optimize\\_numdiff.py:576: RuntimeWarning: invalid value encountered in subtract\n",
      "  df = fun(x) - f0\n"
     ]
    },
    {
     "name": "stdout",
     "output_type": "stream",
     "text": [
      "probabilities contain nan\n",
      "probabilities contain nan\n",
      "probabilities contain nan\n",
      "probabilities contain nan\n",
      "probabilities contain nan\n"
     ]
    }
   ],
   "source": [
    "## Fit Model to all Data\n",
    "for subj in subj_keys:\n",
    "    for polarity in polarity_keys:\n",
    "        for exp in exp_keys:\n",
    "            data = behaviour.combineBehaviour(path = path, all_key = False, subj_key= subj,\n",
    "                                              polarity_key = polarity, exp_key = exp)\n",
    "            bnds = ((1e-8, 1), (1e-5, 2), (1e-6, 1e-1), (0.0001, 1))\n",
    "            modelFit = differential_evolution(BDI.fiteLATERModel, bounds = bnds, args=([data, delayBins]))\n",
    "            dump(modelFit, fr'C:\\Users\\Brandon\\Desktop\\PhD\\Gated Accumulation\\Model Fits\\eLATERfit_{subj}_{polarity}_{exp}')\n"
   ]
  },
  {
   "cell_type": "code",
   "execution_count": 5,
   "metadata": {},
   "outputs": [],
   "source": [
    "## Fit Gated Model to Individuals\n",
    "bnds = ((1, 1), (.4,.6), (1, 2), \n",
    "        (.05, .1), (2/1000, 6/1000), \n",
    "        (.8/1000, 2/1000), (0.01,1), (1,1)) \n",
    "\n",
    "for subj in subj_keys:\n",
    "    for polarity in polarity_keys:\n",
    "        for exp in exp_keys:\n",
    "            data = behaviour.combineBehaviour(path = path, all_key = False, subj_key= subj,\n",
    "                                              polarity_key = polarity, exp_key = exp)\n",
    "            modelFit = differential_evolution(BDI.fitBaselineModel, bounds = bnds, args=([data, delayBins]))\n",
    "            dump(modelFit, fr'C:\\Users\\Brandon\\Desktop\\PhD\\Gated Accumulation\\Model Fits\\modelfit_{subj}_{polarity}_{exp}')\n"
   ]
  },
  {
   "cell_type": "code",
   "execution_count": 4,
   "metadata": {},
   "outputs": [
    {
     "ename": "FileNotFoundError",
     "evalue": "[Errno 2] No such file or directory: 'C:\\\\Users\\\\Brandon\\\\Desktop\\\\PhD\\\\Baseline Dynamics\\\\Baseline-Dynamics\\\\Model_Fits\\\\modelfit_OM_AN_PR'",
     "output_type": "error",
     "traceback": [
      "\u001b[1;31m---------------------------------------------------------------------------\u001b[0m",
      "\u001b[1;31mFileNotFoundError\u001b[0m                         Traceback (most recent call last)",
      "\u001b[1;32mc:\\Users\\Brandon\\Desktop\\PhD\\Gated Accumulation\\Notebooks\\04_Individual_Model_Comparison.ipynb Cell 5\u001b[0m line \u001b[0;36m1\n\u001b[0;32m      <a href='vscode-notebook-cell:/c%3A/Users/Brandon/Desktop/PhD/Gated%20Accumulation/Notebooks/04_Individual_Model_Comparison.ipynb#W4sZmlsZQ%3D%3D?line=7'>8</a>\u001b[0m \u001b[39mfor\u001b[39;00m exp \u001b[39min\u001b[39;00m exp_keys:\n\u001b[0;32m      <a href='vscode-notebook-cell:/c%3A/Users/Brandon/Desktop/PhD/Gated%20Accumulation/Notebooks/04_Individual_Model_Comparison.ipynb#W4sZmlsZQ%3D%3D?line=8'>9</a>\u001b[0m     eLATER_Model \u001b[39m=\u001b[39m load(\u001b[39mfr\u001b[39m\u001b[39m'\u001b[39m\u001b[39mC:\u001b[39m\u001b[39m\\\u001b[39m\u001b[39mUsers\u001b[39m\u001b[39m\\\u001b[39m\u001b[39mBrandon\u001b[39m\u001b[39m\\\u001b[39m\u001b[39mDesktop\u001b[39m\u001b[39m\\\u001b[39m\u001b[39mPhD\u001b[39m\u001b[39m\\\u001b[39m\u001b[39mBaseline Dynamics\u001b[39m\u001b[39m\\\u001b[39m\u001b[39mBaseline-Dynamics\u001b[39m\u001b[39m\\\u001b[39m\u001b[39mModel_Fits\u001b[39m\u001b[39m\\\u001b[39m\u001b[39meLATERfit_\u001b[39m\u001b[39m{\u001b[39;00msubj\u001b[39m}\u001b[39;00m\u001b[39m_\u001b[39m\u001b[39m{\u001b[39;00mpolarity\u001b[39m}\u001b[39;00m\u001b[39m_\u001b[39m\u001b[39m{\u001b[39;00mexp\u001b[39m}\u001b[39;00m\u001b[39m'\u001b[39m)\n\u001b[1;32m---> <a href='vscode-notebook-cell:/c%3A/Users/Brandon/Desktop/PhD/Gated%20Accumulation/Notebooks/04_Individual_Model_Comparison.ipynb#W4sZmlsZQ%3D%3D?line=9'>10</a>\u001b[0m     baseline_Model \u001b[39m=\u001b[39m load(\u001b[39mfr\u001b[39;49m\u001b[39m'\u001b[39;49m\u001b[39mC:\u001b[39;49m\u001b[39m\\\u001b[39;49m\u001b[39mUsers\u001b[39;49m\u001b[39m\\\u001b[39;49m\u001b[39mBrandon\u001b[39;49m\u001b[39m\\\u001b[39;49m\u001b[39mDesktop\u001b[39;49m\u001b[39m\\\u001b[39;49m\u001b[39mPhD\u001b[39;49m\u001b[39m\\\u001b[39;49m\u001b[39mBaseline Dynamics\u001b[39;49m\u001b[39m\\\u001b[39;49m\u001b[39mBaseline-Dynamics\u001b[39;49m\u001b[39m\\\u001b[39;49m\u001b[39mModel_Fits\u001b[39;49m\u001b[39m\\\u001b[39;49m\u001b[39mmodelfit_\u001b[39;49m\u001b[39m{\u001b[39;49;00msubj\u001b[39m}\u001b[39;49;00m\u001b[39m_\u001b[39;49m\u001b[39m{\u001b[39;49;00mpolarity\u001b[39m}\u001b[39;49;00m\u001b[39m_\u001b[39;49m\u001b[39m{\u001b[39;49;00mexp\u001b[39m}\u001b[39;49;00m\u001b[39m'\u001b[39;49m)\n\u001b[0;32m     <a href='vscode-notebook-cell:/c%3A/Users/Brandon/Desktop/PhD/Gated%20Accumulation/Notebooks/04_Individual_Model_Comparison.ipynb#W4sZmlsZQ%3D%3D?line=10'>11</a>\u001b[0m     plt\u001b[39m.\u001b[39mbar(counter, eLATER_Model\u001b[39m.\u001b[39mfun \u001b[39m-\u001b[39m baseline_Model\u001b[39m.\u001b[39mfun, color \u001b[39m=\u001b[39m c)\n\u001b[0;32m     <a href='vscode-notebook-cell:/c%3A/Users/Brandon/Desktop/PhD/Gated%20Accumulation/Notebooks/04_Individual_Model_Comparison.ipynb#W4sZmlsZQ%3D%3D?line=11'>12</a>\u001b[0m     counter \u001b[39m=\u001b[39m counter \u001b[39m+\u001b[39m \u001b[39m1\u001b[39m\n",
      "File \u001b[1;32mc:\\Users\\Brandon\\Desktop\\PhD\\Gated Accumulation\\.venv\\lib\\site-packages\\skopt\\utils.py:174\u001b[0m, in \u001b[0;36mload\u001b[1;34m(filename, **kwargs)\u001b[0m\n\u001b[0;32m    151\u001b[0m \u001b[39mdef\u001b[39;00m \u001b[39mload\u001b[39m(filename, \u001b[39m*\u001b[39m\u001b[39m*\u001b[39mkwargs):\n\u001b[0;32m    152\u001b[0m     \u001b[39m\"\"\"\u001b[39;00m\n\u001b[0;32m    153\u001b[0m \u001b[39m    Reconstruct a skopt optimization result from a file\u001b[39;00m\n\u001b[0;32m    154\u001b[0m \u001b[39m    persisted with skopt.dump.\u001b[39;00m\n\u001b[1;32m   (...)\u001b[0m\n\u001b[0;32m    172\u001b[0m \u001b[39m        Reconstructed OptimizeResult instance.\u001b[39;00m\n\u001b[0;32m    173\u001b[0m \u001b[39m    \"\"\"\u001b[39;00m\n\u001b[1;32m--> 174\u001b[0m     \u001b[39mreturn\u001b[39;00m load_(filename, \u001b[39m*\u001b[39m\u001b[39m*\u001b[39mkwargs)\n",
      "File \u001b[1;32mc:\\Users\\Brandon\\Desktop\\PhD\\Gated Accumulation\\.venv\\lib\\site-packages\\joblib\\numpy_pickle.py:650\u001b[0m, in \u001b[0;36mload\u001b[1;34m(filename, mmap_mode)\u001b[0m\n\u001b[0;32m    648\u001b[0m         obj \u001b[39m=\u001b[39m _unpickle(fobj)\n\u001b[0;32m    649\u001b[0m \u001b[39melse\u001b[39;00m:\n\u001b[1;32m--> 650\u001b[0m     \u001b[39mwith\u001b[39;00m \u001b[39mopen\u001b[39;49m(filename, \u001b[39m'\u001b[39;49m\u001b[39mrb\u001b[39;49m\u001b[39m'\u001b[39;49m) \u001b[39mas\u001b[39;00m f:\n\u001b[0;32m    651\u001b[0m         \u001b[39mwith\u001b[39;00m _read_fileobject(f, filename, mmap_mode) \u001b[39mas\u001b[39;00m fobj:\n\u001b[0;32m    652\u001b[0m             \u001b[39mif\u001b[39;00m \u001b[39misinstance\u001b[39m(fobj, \u001b[39mstr\u001b[39m):\n\u001b[0;32m    653\u001b[0m                 \u001b[39m# if the returned file object is a string, this means we\u001b[39;00m\n\u001b[0;32m    654\u001b[0m                 \u001b[39m# try to load a pickle file generated with an version of\u001b[39;00m\n\u001b[0;32m    655\u001b[0m                 \u001b[39m# Joblib so we load it with joblib compatibility function.\u001b[39;00m\n",
      "\u001b[1;31mFileNotFoundError\u001b[0m: [Errno 2] No such file or directory: 'C:\\\\Users\\\\Brandon\\\\Desktop\\\\PhD\\\\Baseline Dynamics\\\\Baseline-Dynamics\\\\Model_Fits\\\\modelfit_OM_AN_PR'"
     ]
    },
    {
     "data": {
      "image/png": "[encoded data removed]",
      "text/plain": [
       "<Figure size 640x480 with 1 Axes>"
      ]
     },
     "metadata": {},
     "output_type": "display_data"
    }
   ],
   "source": [
    "from skopt import load\n",
    "import matplotlib.pyplot as plt\n",
    "counter = 1\n",
    "color = iter(cm.twilight(np.linspace(0.1, 1, 7)))\n",
    "for subj in subj_keys:\n",
    "    c = next(color)\n",
    "    for polarity in polarity_keys:\n",
    "        for exp in exp_keys:\n",
    "            eLATER_Model = load(fr'C:\\Users\\Brandon\\Desktop\\PhD\\Baseline Dynamics\\Baseline-Dynamics\\Model_Fits\\eLATERfit_{subj}_{polarity}_{exp}')\n",
    "            baseline_Model = load(fr'C:\\Users\\Brandon\\Desktop\\PhD\\Baseline Dynamics\\Baseline-Dynamics\\Model_Fits\\modelfit_{subj}_{polarity}_{exp}')\n",
    "            plt.bar(counter, eLATER_Model.fun - baseline_Model.fun, color = c)\n",
    "            counter = counter + 1\n",
    "\n",
    "\n",
    "#plt.savefig(rf\"C:\\Users\\Brandon\\Desktop\\PhD\\Baseline Dynamics\\Baseline-Dynamics\\Figures\\eLATER vs Baseline Model\", format='svg')\n"
   ]
  }
 ],
 "metadata": {
  "kernelspec": {
   "display_name": "venv",
   "language": "python",
   "name": "python3"
  },
  "language_info": {
   "codemirror_mode": {
    "name": "ipython",
    "version": 3
   },
   "file_extension": ".py",
   "mimetype": "text/x-python",
   "name": "python",
   "nbconvert_exporter": "python",
   "pygments_lexer": "ipython3",
   "version": "3.10.11"
  },
  "orig_nbformat": 4
 },
 "nbformat": 4,
 "nbformat_minor": 2
}
