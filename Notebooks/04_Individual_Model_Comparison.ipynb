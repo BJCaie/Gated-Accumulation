{
 "cells": [
  {
   "cell_type": "code",
   "execution_count": 2,
   "metadata": {},
   "outputs": [],
   "source": [
    "# Script for reaction time models with within-trial baseline dynamics. Simulations, analytical solutions, parameter recovery, fitting methods\n",
    "import numpy as np\n",
    "import matplotlib.pyplot as plt\n",
    "from matplotlib.pyplot import cm\n",
    "from Scripts import behaviour, BDI\n",
    "from scipy.optimize import differential_evolution\n",
    "from skopt import dump\n",
    "np.random.seed(0)\n",
    "    "
   ]
  },
  {
   "cell_type": "code",
   "execution_count": 3,
   "metadata": {},
   "outputs": [],
   "source": [
    "path = r'C:\\Users\\Brandon\\Desktop\\PhD\\Baseline Dynamics\\Baseline-Dynamics\\Behavioural_Data'\n",
    "subj_path = r'E:\\Free Choice\\Data\\tDCS\\tDCS\\Final Data'\n",
    "subj_keys = behaviour.get_immediate_subdirectories(subj_path)\n",
    "polarity_keys = ['AN', 'CA'] \n",
    "exp_keys = ['PR','ST', 'PO']\n",
    "delayBins = 5\n",
    "\n"
   ]
  },
  {
   "cell_type": "code",
   "execution_count": null,
   "metadata": {},
   "outputs": [],
   "source": [
    "## Fit Model to all Data\n",
    "for subj in subj_keys:\n",
    "    for polarity in polarity_keys:\n",
    "        for exp in exp_keys:\n",
    "            data = behaviour.combineBehaviour(path = path, all_key = False, subj_key= subj,\n",
    "                                              polarity_key = polarity, exp_key = exp)\n",
    "            bnds = ((1e-8, 1), (1e-5, 2), (1e-6, 1e-1), (0.0001, 1))\n",
    "            modelFit = differential_evolution(BDI.fiteLATERModel, bounds = bnds, args=([data, delayBins]))\n",
    "            dump(modelFit, fr'C:\\Users\\Brandon\\Desktop\\PhD\\Gated Accumulation\\Model Fits\\eLATERfit_{subj}_{polarity}_{exp}')\n"
   ]
  },
  {
   "cell_type": "code",
   "execution_count": 5,
   "metadata": {},
   "outputs": [],
   "source": [
    "## Fit Gated Model to Individuals\n",
    "bnds = ((1, 1), (.4,.6), (1, 2), \n",
    "        (.05, .1), (2/1000, 6/1000), \n",
    "        (.8/1000, 2/1000), (0.01,1), (1,1)) \n",
    "\n",
    "for subj in subj_keys:\n",
    "    for polarity in polarity_keys:\n",
    "        for exp in exp_keys:\n",
    "            data = behaviour.combineBehaviour(path = path, all_key = False, subj_key= subj,\n",
    "                                              polarity_key = polarity, exp_key = exp)\n",
    "            modelFit = differential_evolution(BDI.fitBaselineModel, bounds = bnds, args=([data, delayBins]))\n",
    "            dump(modelFit, fr'C:\\Users\\Brandon\\Desktop\\PhD\\Gated Accumulation\\Model Fits\\modelfit_{subj}_{polarity}_{exp}')\n"
   ]
  },
  {
   "cell_type": "code",
   "execution_count": null,
   "metadata": {},
   "outputs": [],
   "source": [
    "from skopt import load\n",
    "import matplotlib.pyplot as plt\n",
    "counter = 1\n",
    "color = iter(cm.twilight(np.linspace(0.1, 1, 7)))\n",
    "for subj in subj_keys:\n",
    "    c = next(color)\n",
    "    for polarity in polarity_keys:\n",
    "        for exp in exp_keys:\n",
    "            eLATER_Model = load(fr'C:\\Users\\Brandon\\Desktop\\PhD\\Baseline Dynamics\\Baseline-Dynamics\\Model_Fits\\eLATERfit_{subj}_{polarity}_{exp}')\n",
    "            baseline_Model = load(fr'C:\\Users\\Brandon\\Desktop\\PhD\\Baseline Dynamics\\Baseline-Dynamics\\Model_Fits\\modelfit_{subj}_{polarity}_{exp}')\n",
    "            plt.bar(counter, eLATER_Model.fun - baseline_Model.fun, color = c)\n",
    "            counter = counter + 1\n",
    "\n",
    "\n",
    "#plt.savefig(rf\"C:\\Users\\Brandon\\Desktop\\PhD\\Baseline Dynamics\\Baseline-Dynamics\\Figures\\eLATER vs Baseline Model\", format='svg')\n"
   ]
  }
 ],
 "metadata": {
  "kernelspec": {
   "display_name": "venv",
   "language": "python",
   "name": "python3"
  },
  "language_info": {
   "codemirror_mode": {
    "name": "ipython",
    "version": 3
   },
   "file_extension": ".py",
   "mimetype": "text/x-python",
   "name": "python",
   "nbconvert_exporter": "python",
   "pygments_lexer": "ipython3",
   "version": "3.10.11"
  },
  "orig_nbformat": 4
 },
 "nbformat": 4,
 "nbformat_minor": 2
}
