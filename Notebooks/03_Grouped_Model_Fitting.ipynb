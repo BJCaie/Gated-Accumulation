{
 "cells": [
  {
   "cell_type": "code",
   "execution_count": 11,
   "metadata": {},
   "outputs": [],
   "source": [
    "from Scripts import gating, behaviour\n",
    "from scipy.optimize import differential_evolution\n",
    "from skopt import load, dump\n",
    "import numpy as np\n",
    "import matplotlib.pyplot as plt"
   ]
  },
  {
   "cell_type": "code",
   "execution_count": 2,
   "metadata": {},
   "outputs": [],
   "source": [
    "## Set Path and Load in Data\n",
    "path = r'C:\\Users\\Brandon\\Desktop\\PhD\\Baseline Dynamics\\Baseline-Dynamics\\Behavioural_Data'\n",
    "data = behaviour.combineBehaviour(path = path, all_key = True, \n",
    "                                  subj_key= 0, polarity_key = 0, exp_key = 0)\n",
    "bnds = ((1, 1), (.4,.6), (1, 2), \n",
    "        (.05, .1), (2/1000, 6/1000), \n",
    "        (.8/1000, 2/1000), (0.01,1), (1,1)) \n",
    "delayBins = 5\n"
   ]
  },
  {
   "cell_type": "code",
   "execution_count": 7,
   "metadata": {},
   "outputs": [
    {
     "name": "stdout",
     "output_type": "stream",
     "text": [
      "probabilities contain nan\n"
     ]
    }
   ],
   "source": [
    "# Fit Model to Grouped data- 5 delay bins\n",
    "modelFit = differential_evolution(gating.fitBaselineModel, bounds = bnds, args=([data, delayBins]))\n",
    "dump(modelFit, fr'C:\\Users\\Brandon\\Desktop\\PhD\\Baseline Dynamics\\Baseline-Dynamics\\Model_Fits\\modelfit_group')\n",
    "gating.plotBDIFit(modelFit = modelFit, data = data, params = None, numBins = 5, minDelay = 750, maxDelay = 1100, plotLabel = 'group')\n"
   ]
  },
  {
   "cell_type": "code",
   "execution_count": 3,
   "metadata": {},
   "outputs": [],
   "source": [
    "# Fit model to repetition data \n",
    "\n",
    "# set path and load data\n",
    "groupData = behaviour.combineBehaviour(path = path, all_key = True, \n",
    "                                       subj_key= 0, polarity_key = 0, exp_key = 0) # load data\n",
    "\n",
    "# Set parameters for fitting\n",
    "bnds =((1, 1), (.4,.6), (0.5, 1), \n",
    "                (.05, .1), (2/1000, 6/1000), (.6/1000, 1/1000), (1,1), (1,1))\n",
    "delayBins = 5\n",
    "nback = 5   # number of trials back in sequence\n",
    "\n",
    "# Loop over choice sequence data, fit individually\n",
    "for seq in range(nback):\n",
    "    repData = groupData.loc[groupData['Rep Number']== seq]\n",
    "    modelFit = differential_evolution(gating.fitBaselineModel, bounds = bnds, args=([repData, delayBins]))\n",
    "    dump(modelFit, fr'C:\\Users\\Brandon\\Desktop\\PhD\\Gated Accumulation\\Model Fits\\modelfit_group_rep_{seq}')\n",
    "\n",
    "for seq in range(nback):\n",
    "    altData = groupData.loc[groupData['Alt Number']== seq]\n",
    "    modelFit = differential_evolution(gating.fitBaselineModel, bounds = bnds, args=([altData, delayBins]))\n",
    "    dump(modelFit, fr'C:\\Users\\Brandon\\Desktop\\PhD\\Gated Accumulation\\Model Fits\\modelfit_group_alt_{seq}')"
   ]
  },
  {
   "cell_type": "code",
   "execution_count": 21,
   "metadata": {},
   "outputs": [
    {
     "name": "stdout",
     "output_type": "stream",
     "text": [
      "model fit complete\n",
      "model fit complete\n",
      "model fit complete\n",
      "model fit complete\n",
      "model fit complete\n"
     ]
    }
   ],
   "source": [
    "## Fix single repetition parameters to first in choice sequence\n",
    "modelFit = load(fr'C:\\Users\\Brandon\\Desktop\\PhD\\Baseline Dynamics\\Baseline-Dynamics\\Model_Fits\\modelfit_group_rep_0')\n",
    "\n",
    "open_bnds =((1, 1), (.4,.6), (0.5, 1), \n",
    "                (.05, .1), (2/1000, 6/1000), (.6/1000, 1/1000), (1,1), (1,1))\n",
    "delayBins = 5\n",
    "nback = 5   # number of trials back in sequence\n",
    "param_varies = np.array([5])\n",
    "\n",
    "for param in param_varies:\n",
    "    \n",
    "    closed_bnds = ((modelFit.x[0], modelFit.x[0]), (modelFit.x[1], modelFit.x[1]), (modelFit.x[2], modelFit.x[2]),\n",
    "               (modelFit.x[3], modelFit.x[3]), (modelFit.x[4], modelFit.x[4]), (modelFit.x[5], modelFit.x[5]),\n",
    "               (modelFit.x[6], modelFit.x[6]), (modelFit.x[7], modelFit.x[7]))\n",
    "    closed_bnds = list(closed_bnds)\n",
    "    closed_bnds[param] = open_bnds[param]\n",
    "    closed_bnds = tuple(closed_bnds)\n",
    "\n",
    "    for seq in range(nback):\n",
    "        repData = groupData.loc[groupData['Rep Number']== seq]\n",
    "        modelFit = differential_evolution(gating.fitBaselineModel, bounds = closed_bnds, args=([repData, delayBins]))\n",
    "        dump(modelFit, fr'C:\\Users\\Brandon\\Desktop\\PhD\\Gated Accumulation\\Model Fits\\modelfit_group_rep_{seq}_vary_{param}')\n",
    "        print('model fit complete')\n"
   ]
  },
  {
   "cell_type": "code",
   "execution_count": 4,
   "metadata": {},
   "outputs": [
    {
     "name": "stdout",
     "output_type": "stream",
     "text": [
      "model fit complete\n",
      "model fit complete\n",
      "model fit complete\n",
      "model fit complete\n",
      "model fit complete\n",
      "model fit complete\n",
      "model fit complete\n",
      "model fit complete\n",
      "model fit complete\n",
      "model fit complete\n",
      "model fit complete\n",
      "model fit complete\n",
      "model fit complete\n",
      "model fit complete\n",
      "model fit complete\n",
      "model fit complete\n",
      "model fit complete\n",
      "model fit complete\n",
      "model fit complete\n",
      "model fit complete\n",
      "model fit complete\n",
      "model fit complete\n",
      "model fit complete\n",
      "model fit complete\n",
      "model fit complete\n"
     ]
    }
   ],
   "source": [
    "## Fix alternation parameters to first in choice sequence\n",
    "modelFit = load(fr'C:\\Users\\Brandon\\Desktop\\PhD\\Baseline Dynamics\\Baseline-Dynamics\\Model_Fits\\modelfit_group_alt_0')\n",
    "\n",
    "open_bnds =((1, 1), (.4,.6), (0.5, 1), \n",
    "                (.05, .1), (2/1000, 6/1000), (.6/1000, 1/1000), (1,1), (1,1))\n",
    "delayBins = 5\n",
    "nback = 5   # number of trials back in sequence\n",
    "param_varies = np.array([1,2,3,4,5])\n",
    "\n",
    "for param in param_varies:\n",
    "    \n",
    "    closed_bnds = ((modelFit.x[0], modelFit.x[0]), (modelFit.x[1], modelFit.x[1]), (modelFit.x[2], modelFit.x[2]),\n",
    "               (modelFit.x[3], modelFit.x[3]), (modelFit.x[4], modelFit.x[4]), (modelFit.x[5], modelFit.x[5]),\n",
    "               (modelFit.x[6], modelFit.x[6]), (modelFit.x[7], modelFit.x[7]))\n",
    "    closed_bnds = list(closed_bnds)\n",
    "    closed_bnds[param] = open_bnds[param]\n",
    "    closed_bnds = tuple(closed_bnds)\n",
    "\n",
    "    for seq in range(nback):\n",
    "        altData = data.loc[data['Alt Number']== seq]\n",
    "        modelFit = differential_evolution(gating.fitBaselineModel, bounds = closed_bnds, args=([altData, delayBins]))\n",
    "        dump(modelFit, fr'C:\\Users\\Brandon\\Desktop\\PhD\\Gated Accumulation\\Model Fits\\modelfit_group_alt_{seq}_vary_{param}')\n",
    "        print('model fit complete')\n"
   ]
  },
  {
   "cell_type": "code",
   "execution_count": 10,
   "metadata": {},
   "outputs": [
    {
     "name": "stdout",
     "output_type": "stream",
     "text": [
      "model fit complete\n",
      "model fit complete\n",
      "model fit complete\n",
      "model fit complete\n",
      "model fit complete\n",
      "model fit complete\n",
      "model fit complete\n",
      "model fit complete\n",
      "model fit complete\n",
      "model fit complete\n"
     ]
    }
   ],
   "source": [
    "## Fix all gating to first in choice sequence\n",
    "\n",
    "# set path and load data\n",
    "groupData = behaviour.combineBehaviour(path = path, all_key = True, \n",
    "                                       subj_key= 0, polarity_key = 0, exp_key = 0) # load data\n",
    "\n",
    "modelFit = load(fr'C:\\Users\\Brandon\\Desktop\\PhD\\Baseline Dynamics\\Baseline-Dynamics\\Model_Fits\\modelfit_group_rep_0')\n",
    "\n",
    "open_bnds =((1, 1), (.4,.6), (0.5, 1), \n",
    "                (.05, .1), (2/1000, 6/1000), (.6/1000, 1/1000), (1,1), (1,1))\n",
    "delayBins = 5\n",
    "nback = 5   # number of trials back in sequence\n",
    "param_varies = np.array([1,2,3])\n",
    "\n",
    "    \n",
    "closed_bnds = ((modelFit.x[0], modelFit.x[0]), (modelFit.x[1], modelFit.x[1]), (modelFit.x[2], modelFit.x[2]),\n",
    "            (modelFit.x[3], modelFit.x[3]), (modelFit.x[4], modelFit.x[4]), (modelFit.x[5], modelFit.x[5]),\n",
    "            (modelFit.x[6], modelFit.x[6]), (modelFit.x[7], modelFit.x[7]))\n",
    "\n",
    "for param in param_varies:\n",
    "    closed_bnds = list(closed_bnds)\n",
    "    closed_bnds[param] = open_bnds[param]\n",
    "    closed_bnds = tuple(closed_bnds)\n",
    "\n",
    "for seq in range(nback):\n",
    "    repData = groupData.loc[groupData['Rep Number']== seq]\n",
    "    modelFit = differential_evolution(gating.fitBaselineModel, bounds = closed_bnds, args=([repData, delayBins]))\n",
    "    dump(modelFit, fr'C:\\Users\\Brandon\\Desktop\\PhD\\Gated Accumulation\\Model Fits\\modelfit_group_rep_{seq}_vary_baseline')\n",
    "    print('model fit complete')\n",
    "\n",
    "for seq in range(nback):\n",
    "    altData = groupData.loc[groupData['Alt Number']== seq]\n",
    "    modelFit = differential_evolution(gating.fitBaselineModel, bounds = closed_bnds, args=([altData, delayBins]))\n",
    "    dump(modelFit, fr'C:\\Users\\Brandon\\Desktop\\PhD\\Gated Accumulation\\Model Fits\\modelfit_group_alt_{seq}_vary_baseline')\n",
    "    print('model fit complete')\n",
    "\n"
   ]
  }
 ],
 "metadata": {
  "kernelspec": {
   "display_name": "venv",
   "language": "python",
   "name": "python3"
  },
  "language_info": {
   "codemirror_mode": {
    "name": "ipython",
    "version": 3
   },
   "file_extension": ".py",
   "mimetype": "text/x-python",
   "name": "python",
   "nbconvert_exporter": "python",
   "pygments_lexer": "ipython3",
   "version": "3.10.11"
  },
  "orig_nbformat": 4,
  "vscode": {
   "interpreter": {
    "hash": "44097f303f6e806239a7f5303293bc49b2c3222c85904097331990fba3009dc1"
   }
  }
 },
 "nbformat": 4,
 "nbformat_minor": 2
}
